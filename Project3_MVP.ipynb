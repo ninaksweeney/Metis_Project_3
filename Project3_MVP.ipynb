{
 "cells": [
  {
   "cell_type": "markdown",
   "id": "a6c75d3c",
   "metadata": {},
   "source": [
    "# The Opportunity Within AMTRAK: America's Railroad"
   ]
  },
  {
   "cell_type": "markdown",
   "id": "a150031f",
   "metadata": {},
   "source": [
    "The goal of this project is to identify a highly targeted audience segment that Amtrak can engage in order to increase ridership and revenue. I've chosen to focus on advertising Amtrak as a [low-carbon alternative](https://www.bbc.com/news/science-environment-49349566) to air travel - an advantage that could resonate heavily with the large percentage of young people [experiencing distress about the climate crisis](https://www.npr.org/2021/09/19/1038681730/study-shows-young-people-have-a-lot-of-anxiety-around-climate-change). There is an opportunity for Amtrak to build a predictive model of what makes an individual more likely to switch from air travel to train travel. In my project, I made assumptions about what the outcome of that model might be, and identified an audience based on those assumptions. \n",
    "\n",
    "In order to identify this audience, I incorporated 7 datasets on airline travel, amtrak ridership and geographies, U.S. opinions on climate change, census data, and university information and geographies. \n",
    "\n",
    "First, I found the most-travelled US air routes under 1000 miles that were also serviced by Amtrak. I overlayed those routes onto a map of climate opinions in the US, where a darker shade means the population scores above the national average on three topics: believing climate change is happening, being worried about it, and thinking citizens should do more. This allowed me to narrow down the routes to populations that will be receptive to my messaging. "
   ]
  },
  {
   "cell_type": "code",
   "execution_count": 1,
   "id": "344594dd",
   "metadata": {},
   "outputs": [
    {
     "data": {
      "text/html": [
       "<div class='tableauPlaceholder' id='viz1634058627712' style='position: relative'><noscript><a href='#'><img alt='All Routes + Climate ' src='https:&#47;&#47;public.tableau.com&#47;static&#47;images&#47;8H&#47;8H93XJ7WT&#47;1_rss.png' style='border: none' /></a></noscript><object class='tableauViz'  style='display:none;'><param name='host_url' value='https%3A%2F%2Fpublic.tableau.com%2F' /> <param name='embed_code_version' value='3' /> <param name='path' value='shared&#47;8H93XJ7WT' /> <param name='toolbar' value='yes' /><param name='static_image' value='https:&#47;&#47;public.tableau.com&#47;static&#47;images&#47;8H&#47;8H93XJ7WT&#47;1.png' /> <param name='animate_transition' value='yes' /><param name='display_static_image' value='yes' /><param name='display_spinner' value='yes' /><param name='display_overlay' value='yes' /><param name='display_count' value='yes' /><param name='language' value='en-US' /><param name='filter' value='publish=yes' /></object></div>                <script type='text/javascript'>                    var divElement = document.getElementById('viz1634058627712');                    var vizElement = divElement.getElementsByTagName('object')[0];                    vizElement.style.width='100%';vizElement.style.height=(divElement.offsetWidth*0.75)+'px';                    var scriptElement = document.createElement('script');                    scriptElement.src = 'https://public.tableau.com/javascripts/api/viz_v1.js';                    vizElement.parentNode.insertBefore(scriptElement, vizElement);                </script>\n"
      ],
      "text/plain": [
       "<IPython.core.display.HTML object>"
      ]
     },
     "metadata": {},
     "output_type": "display_data"
    }
   ],
   "source": [
    "%%HTML\n",
    "<div class='tableauPlaceholder' id='viz1634058627712' style='position: relative'><noscript><a href='#'><img alt='All Routes + Climate ' src='https:&#47;&#47;public.tableau.com&#47;static&#47;images&#47;8H&#47;8H93XJ7WT&#47;1_rss.png' style='border: none' /></a></noscript><object class='tableauViz'  style='display:none;'><param name='host_url' value='https%3A%2F%2Fpublic.tableau.com%2F' /> <param name='embed_code_version' value='3' /> <param name='path' value='shared&#47;8H93XJ7WT' /> <param name='toolbar' value='yes' /><param name='static_image' value='https:&#47;&#47;public.tableau.com&#47;static&#47;images&#47;8H&#47;8H93XJ7WT&#47;1.png' /> <param name='animate_transition' value='yes' /><param name='display_static_image' value='yes' /><param name='display_spinner' value='yes' /><param name='display_overlay' value='yes' /><param name='display_count' value='yes' /><param name='language' value='en-US' /><param name='filter' value='publish=yes' /></object></div>                <script type='text/javascript'>                    var divElement = document.getElementById('viz1634058627712');                    var vizElement = divElement.getElementsByTagName('object')[0];                    vizElement.style.width='100%';vizElement.style.height=(divElement.offsetWidth*0.75)+'px';                    var scriptElement = document.createElement('script');                    scriptElement.src = 'https://public.tableau.com/javascripts/api/viz_v1.js';                    vizElement.parentNode.insertBefore(scriptElement, vizElement);                </script>"
   ]
  },
  {
   "cell_type": "markdown",
   "id": "f226ea3b",
   "metadata": {},
   "source": [
    "Next, I wanted to focus on young people, who are both heavily affected by the climate crisis and very involved in the movement to mitigate it. I mapped schools in my chosen geographies where at least 5% of first-year students are from the associated route destination and may need to travel home throughout the year. These schools will serve as my final recommendation for laser-focused advertising about switching from air to rail travel. This will serve as a first, low-risk experiment for Amtrak, which can be expanded if successful. "
   ]
  },
  {
   "cell_type": "code",
   "execution_count": 2,
   "id": "71a3c597",
   "metadata": {},
   "outputs": [
    {
     "data": {
      "text/html": [
       "<div class='tableauPlaceholder' id='viz1634058822490' style='position: relative'><noscript><a href='#'><img alt='All Schools ' src='https:&#47;&#47;public.tableau.com&#47;static&#47;images&#47;Am&#47;AmtrakProject&#47;AllSchools&#47;1_rss.png' style='border: none' /></a></noscript><object class='tableauViz'  style='display:none;'><param name='host_url' value='https%3A%2F%2Fpublic.tableau.com%2F' /> <param name='embed_code_version' value='3' /> <param name='site_root' value='' /><param name='name' value='AmtrakProject&#47;AllSchools' /><param name='tabs' value='no' /><param name='toolbar' value='yes' /><param name='static_image' value='https:&#47;&#47;public.tableau.com&#47;static&#47;images&#47;Am&#47;AmtrakProject&#47;AllSchools&#47;1.png' /> <param name='animate_transition' value='yes' /><param name='display_static_image' value='yes' /><param name='display_spinner' value='yes' /><param name='display_overlay' value='yes' /><param name='display_count' value='yes' /><param name='language' value='en-US' /><param name='filter' value='publish=yes' /></object></div>                <script type='text/javascript'>                    var divElement = document.getElementById('viz1634058822490');                    var vizElement = divElement.getElementsByTagName('object')[0];                    vizElement.style.width='100%';vizElement.style.height=(divElement.offsetWidth*0.75)+'px';                    var scriptElement = document.createElement('script');                    scriptElement.src = 'https://public.tableau.com/javascripts/api/viz_v1.js';                    vizElement.parentNode.insertBefore(scriptElement, vizElement);                </script>\n"
      ],
      "text/plain": [
       "<IPython.core.display.HTML object>"
      ]
     },
     "metadata": {},
     "output_type": "display_data"
    }
   ],
   "source": [
    "%%HTML\n",
    "<div class='tableauPlaceholder' id='viz1634058822490' style='position: relative'><noscript><a href='#'><img alt='All Schools ' src='https:&#47;&#47;public.tableau.com&#47;static&#47;images&#47;Am&#47;AmtrakProject&#47;AllSchools&#47;1_rss.png' style='border: none' /></a></noscript><object class='tableauViz'  style='display:none;'><param name='host_url' value='https%3A%2F%2Fpublic.tableau.com%2F' /> <param name='embed_code_version' value='3' /> <param name='site_root' value='' /><param name='name' value='AmtrakProject&#47;AllSchools' /><param name='tabs' value='no' /><param name='toolbar' value='yes' /><param name='static_image' value='https:&#47;&#47;public.tableau.com&#47;static&#47;images&#47;Am&#47;AmtrakProject&#47;AllSchools&#47;1.png' /> <param name='animate_transition' value='yes' /><param name='display_static_image' value='yes' /><param name='display_spinner' value='yes' /><param name='display_overlay' value='yes' /><param name='display_count' value='yes' /><param name='language' value='en-US' /><param name='filter' value='publish=yes' /></object></div>                <script type='text/javascript'>                    var divElement = document.getElementById('viz1634058822490');                    var vizElement = divElement.getElementsByTagName('object')[0];                    vizElement.style.width='100%';vizElement.style.height=(divElement.offsetWidth*0.75)+'px';                    var scriptElement = document.createElement('script');                    scriptElement.src = 'https://public.tableau.com/javascripts/api/viz_v1.js';                    vizElement.parentNode.insertBefore(scriptElement, vizElement);                </script>"
   ]
  },
  {
   "cell_type": "markdown",
   "id": "aff6ecb8",
   "metadata": {},
   "source": [
    "Moving forward, I plan to work on more robust scoping, clearly communicate the constraints and assumptions of this project, and craft an engaging narrative to present. "
   ]
  }
 ],
 "metadata": {
  "kernelspec": {
   "display_name": "Python 3",
   "language": "python",
   "name": "python3"
  },
  "language_info": {
   "codemirror_mode": {
    "name": "ipython",
    "version": 3
   },
   "file_extension": ".py",
   "mimetype": "text/x-python",
   "name": "python",
   "nbconvert_exporter": "python",
   "pygments_lexer": "ipython3",
   "version": "3.8.8"
  }
 },
 "nbformat": 4,
 "nbformat_minor": 5
}
